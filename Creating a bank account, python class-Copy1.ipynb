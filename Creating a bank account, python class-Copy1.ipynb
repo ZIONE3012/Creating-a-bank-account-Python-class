{
 "cells": [
  {
   "cell_type": "code",
   "execution_count": 2,
   "id": "98359535-92a0-49f9-80d3-77cc5c096107",
   "metadata": {},
   "outputs": [
    {
     "name": "stdout",
     "output_type": "stream",
     "text": [
      "Account balance for Esther Zion: $4500.0\n"
     ]
    }
   ],
   "source": [
    "#creating a bank account\n",
    "\n",
    "class Account:\n",
    "    def __init__(self, account_number, account_holder):\n",
    "        self.account_number = account_number\n",
    "        self.account_holder = account_holder\n",
    "        self.account_balance = 0.0\n",
    "\n",
    "    def deposit(self, amount):\n",
    "        self.account_balance += amount\n",
    "\n",
    "    def withdraw(self, amount):\n",
    "        if self.account_balance >= amount:\n",
    "            self.account_balance -= amount\n",
    "        else:\n",
    "            print(\"Insufficient funds. Withdrawal invalid.\")\n",
    "\n",
    "    def check_balance(self):\n",
    "        return self.account_balance\n",
    "\n",
    "# Create an instance of the Account class\n",
    "my_account = Account(account_number=\"0022445599\", account_holder=\"Esther Zion\")\n",
    "\n",
    "# Deposit and withdraw money\n",
    "my_account.deposit(5000.0)\n",
    "my_account.withdraw(500.0)\n",
    "\n",
    "# Check account balance\n",
    "print(f\"Account balance for {my_account.account_holder}: ${my_account.check_balance()}\")\n"
   ]
  },
  {
   "cell_type": "code",
   "execution_count": null,
   "id": "ab1ea703-aa5c-4435-a572-022ea09c3be5",
   "metadata": {},
   "outputs": [],
   "source": []
  }
 ],
 "metadata": {
  "kernelspec": {
   "display_name": "Python 3 (ipykernel)",
   "language": "python",
   "name": "python3"
  },
  "language_info": {
   "codemirror_mode": {
    "name": "ipython",
    "version": 3
   },
   "file_extension": ".py",
   "mimetype": "text/x-python",
   "name": "python",
   "nbconvert_exporter": "python",
   "pygments_lexer": "ipython3",
   "version": "3.11.7"
  }
 },
 "nbformat": 4,
 "nbformat_minor": 5
}
